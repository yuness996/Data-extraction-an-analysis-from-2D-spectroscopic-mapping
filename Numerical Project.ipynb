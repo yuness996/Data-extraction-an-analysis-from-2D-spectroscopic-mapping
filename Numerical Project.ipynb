{
 "cells": [
  {
   "cell_type": "code",
   "execution_count": 2,
   "metadata": {},
   "outputs": [
    {
     "name": "stdout",
     "output_type": "stream",
     "text": [
      "Populating the interactive namespace from numpy and matplotlib\n"
     ]
    }
   ],
   "source": [
    "%pylab inline\n",
    "import math\n",
    "from scipy import random\n",
    "import numpy as np\n",
    "import matplotlib.pyplot as plt\n",
    "from scipy.optimize import curve_fit\n",
    "import pylab as plb\n",
    "from scipy.interpolate import interp1d\n",
    "import pandas as pd"
   ]
  },
  {
   "cell_type": "code",
   "execution_count": 3,
   "metadata": {},
   "outputs": [],
   "source": [
    "#Trial to read a file\n",
    "#######################\n",
    "\n",
    "#import pandas as pd\n",
    "X = pd.read_csv(r'D:\\data-file\\SP2-15-SI-33468D-mapping.txt', sep=\"\\t\", header=None)\n",
    "#choose the file and put its location in your pc\n",
    "#convert the file into csv and read it\n",
    "\n",
    "wleng = []#wave length array\n",
    "data = []#intensity array\n",
    "for i in range (2, 1022):#950\n",
    "    wleng.append(X[i][0])\n",
    "#fill the information of the first row into an array of wave lengths\n",
    "\n",
    "\n",
    "\n",
    "#print(X.shape)\n",
    "#for r in range(1, 1681):    \n",
    "for j in range (2, 1022):\n",
    "    data.append(X[j][685])\n",
    "    #n = data.index(max(data))\n",
    "    \n",
    "#choose what row you want to plot    \n",
    "    \n",
    "x = X[0][1680]\n",
    "y = X[1][1680]#coordinates of the row\n"
   ]
  },
  {
   "cell_type": "code",
   "execution_count": 4,
   "metadata": {},
   "outputs": [
    {
     "name": "stdout",
     "output_type": "stream",
     "text": [
      "Intensity distribution on point (10.5, 10.0)\n"
     ]
    },
    {
     "data": {
      "image/png": "[encoded data removed]",
      "text/plain": [
       "<Figure size 432x288 with 1 Axes>"
      ]
     },
     "metadata": {
      "needs_background": "light"
     },
     "output_type": "display_data"
    }
   ],
   "source": [
    "print('Intensity distribution on point',(x,y))\n",
    "plt.plot(wleng, data, linewidth=0.5)\n",
    "plt.xlabel('Wavelength [$cm^{-1}$]')\n",
    "plt.ylabel('Intensity [Arb. units]')\n",
    "plt.show()#plot the graph and label the axis"
   ]
  },
  {
   "cell_type": "code",
   "execution_count": 5,
   "metadata": {},
   "outputs": [],
   "source": [
    "def FindPeak1(data):\n",
    "    while(wleng[data.index(max(data))] > 370):#wavelength upper limit of first peak\n",
    "        #check if there is a strong background radiation\n",
    "        s = data.index(max(data))\n",
    "        for o in range (0, 40):\n",
    "            data[s-o] = min(data)#deleting or minimising the intensity\n",
    "            c = s + o\n",
    "            if ((s+o) >= 1681):\n",
    "                c = 1681\n",
    "            data[c] = min(data)\n",
    "    m = max(data)\n",
    "    maxposition = data.index(m)\n",
    "    return [wleng[maxposition], data[maxposition]]#return the position and the value of the peak"
   ]
  },
  {
   "cell_type": "code",
   "execution_count": 19,
   "metadata": {},
   "outputs": [
    {
     "data": {
      "text/plain": [
       "[300.74301, 1030.0]"
      ]
     },
     "execution_count": 19,
     "metadata": {},
     "output_type": "execute_result"
    }
   ],
   "source": [
    "FindPeak1(data)"
   ]
  },
  {
   "cell_type": "code",
   "execution_count": 6,
   "metadata": {},
   "outputs": [],
   "source": [
    "def FindPeak2(data):\n",
    "    #y = 100\n",
    "    ii = data.index(max(data))\n",
    "    \n",
    "    #while (y > 50):\n",
    "     #   ii += 5\n",
    "      #  y = data[ii] - min(data)\n",
    "    ii += 20#take an index where the first peak ends by using the previous function\n",
    "    #the 20 could be increased if the function was wider\n",
    "    jj = ii\n",
    "    dataa = []\n",
    "    wleng2 = []\n",
    "    maxx = max(data)\n",
    "    minn = min(data)\n",
    "    for k in range (jj, 1020):\n",
    "        #if (data[k] > maxx/2.):\n",
    "          #  data[K] = minn\n",
    "        dataa.append(data[k])\n",
    "        wleng2.append(wleng[k])#cut the array of wavelength and fill it in another new array\n",
    "    minn = min(data)\n",
    "    while(wleng2[dataa.index(max(dataa))] > 450):#wavelength upper limit of second peak\n",
    "        #Check if there is a background signal having intensity bigger than the second peak\n",
    "        s = dataa.index(max(dataa))\n",
    "        for o in range (0, 40):\n",
    "            dataa[s-o] = minn#erase the data of thesignal\n",
    "            c = s + o\n",
    "            if (c >= len(dataa)):\n",
    "                c = len(dataa) - 1\n",
    "            dataa[c] = minn#find the maximum of the new array\n",
    "    maxposition2 = dataa.index(max(dataa))#Find its index\n",
    "    return [wleng2[maxposition2], dataa[maxposition2], ii + maxposition2]\n",
    "#return the second peak wavelength and intensity and its index in the old array which we will need after"
   ]
  },
  {
   "cell_type": "code",
   "execution_count": 6,
   "metadata": {},
   "outputs": [
    {
     "ename": "KeyboardInterrupt",
     "evalue": "",
     "output_type": "error",
     "traceback": [
      "\u001b[1;31m---------------------------------------------------------------------------\u001b[0m",
      "\u001b[1;31mKeyboardInterrupt\u001b[0m                         Traceback (most recent call last)",
      "\u001b[1;32m<ipython-input-6-5faf62d3a916>\u001b[0m in \u001b[0;36m<module>\u001b[1;34m\u001b[0m\n\u001b[1;32m----> 1\u001b[1;33m \u001b[0mFindPeak2\u001b[0m\u001b[1;33m(\u001b[0m\u001b[0mdata\u001b[0m\u001b[1;33m)\u001b[0m\u001b[1;33m\u001b[0m\u001b[1;33m\u001b[0m\u001b[0m\n\u001b[0m",
      "\u001b[1;32m<ipython-input-5-5d3bf6415d20>\u001b[0m in \u001b[0;36mFindPeak2\u001b[1;34m(data)\u001b[0m\n\u001b[0;32m     23\u001b[0m         \u001b[0ms\u001b[0m \u001b[1;33m=\u001b[0m \u001b[0mdataa\u001b[0m\u001b[1;33m.\u001b[0m\u001b[0mindex\u001b[0m\u001b[1;33m(\u001b[0m\u001b[0mmax\u001b[0m\u001b[1;33m(\u001b[0m\u001b[0mdataa\u001b[0m\u001b[1;33m)\u001b[0m\u001b[1;33m)\u001b[0m\u001b[1;33m\u001b[0m\u001b[1;33m\u001b[0m\u001b[0m\n\u001b[0;32m     24\u001b[0m         \u001b[1;32mfor\u001b[0m \u001b[0mo\u001b[0m \u001b[1;32min\u001b[0m \u001b[0mrange\u001b[0m \u001b[1;33m(\u001b[0m\u001b[1;36m0\u001b[0m\u001b[1;33m,\u001b[0m \u001b[1;36m40\u001b[0m\u001b[1;33m)\u001b[0m\u001b[1;33m:\u001b[0m\u001b[1;33m\u001b[0m\u001b[1;33m\u001b[0m\u001b[0m\n\u001b[1;32m---> 25\u001b[1;33m             \u001b[0mdataa\u001b[0m\u001b[1;33m[\u001b[0m\u001b[0ms\u001b[0m\u001b[1;33m-\u001b[0m\u001b[0mo\u001b[0m\u001b[1;33m]\u001b[0m \u001b[1;33m=\u001b[0m \u001b[0mminn\u001b[0m\u001b[1;31m#erase the data of thesignal\u001b[0m\u001b[1;33m\u001b[0m\u001b[1;33m\u001b[0m\u001b[0m\n\u001b[0m\u001b[0;32m     26\u001b[0m             \u001b[0mc\u001b[0m \u001b[1;33m=\u001b[0m \u001b[0ms\u001b[0m \u001b[1;33m+\u001b[0m \u001b[0mo\u001b[0m\u001b[1;33m\u001b[0m\u001b[1;33m\u001b[0m\u001b[0m\n\u001b[0;32m     27\u001b[0m             \u001b[1;32mif\u001b[0m \u001b[1;33m(\u001b[0m\u001b[0mc\u001b[0m \u001b[1;33m>=\u001b[0m \u001b[0mlen\u001b[0m\u001b[1;33m(\u001b[0m\u001b[0mdataa\u001b[0m\u001b[1;33m)\u001b[0m\u001b[1;33m)\u001b[0m\u001b[1;33m:\u001b[0m\u001b[1;33m\u001b[0m\u001b[1;33m\u001b[0m\u001b[0m\n",
      "\u001b[1;31mKeyboardInterrupt\u001b[0m: "
     ]
    }
   ],
   "source": [
    "FindPeak2(data)"
   ]
  },
  {
   "cell_type": "code",
   "execution_count": 7,
   "metadata": {},
   "outputs": [],
   "source": [
    "def FindHalfWidth1(data):\n",
    "    yth = FindPeak1(data)[1]#take the peak as the first step\n",
    "    y = yth\n",
    "    z = yth\n",
    "    yhp = (yth - min(data))/2 + min(data)\n",
    "    i = data.index(max(data))\n",
    "    j = data.index(max(data))\n",
    "    while (y > yhp):\n",
    "    #use a for loop to check when the intensity value just drops below the half width intensity and record the number of steps\n",
    "        i += 1\n",
    "        y = data[i]\n",
    "        \n",
    "    for ii in range(1, 35):#if there was fluctuation the previous for may not have took the whole information\n",
    "        #So as much the peak is wider with more fluctuation 35 could be increased \n",
    "        if (data[i + ii] > yhp):\n",
    "            i = i + ii\n",
    "            \n",
    "    xhp = wleng[i]\n",
    "    while (z > yhp):#the same thing done from the left side\n",
    "        j -= 1\n",
    "        z = data[j]\n",
    "        \n",
    "    for jj in range(1, 35):#\n",
    "        if (data[j - jj] > yhp):\n",
    "            j = j - jj\n",
    "            \n",
    "    xhp1 = wleng[j]\n",
    "    return [abs(xhp1 - xhp), xhp1, xhp, j, i]#return the FHW and the walength of the points at this intensity and their indeces"
   ]
  },
  {
   "cell_type": "code",
   "execution_count": null,
   "metadata": {},
   "outputs": [],
   "source": [
    "FindHalfWidth1(data)"
   ]
  },
  {
   "cell_type": "code",
   "execution_count": 8,
   "metadata": {},
   "outputs": [],
   "source": [
    "def FindHalfWidth2(data):#same technique is used here\n",
    "    yth = FindPeak2(data)[1]\n",
    "    y = yth\n",
    "    z = yth\n",
    "    yhp = (yth - min(data))/2 + min(data)\n",
    "    i = FindPeak2(data)[2]\n",
    "    j = FindPeak2(data)[2]\n",
    "    while (y > yhp):\n",
    "        i += 1\n",
    "        #print(i)\n",
    "        y = data[i]\n",
    "    \n",
    "    for ii in range(1, 35):\n",
    "        if (data[i + ii] > yhp):\n",
    "            i = i + ii\n",
    "            \n",
    "    xhp = wleng[i]\n",
    "    \n",
    "    while (z > yhp):\n",
    "        j -= 1\n",
    "        z = data[j]\n",
    "        \n",
    "    for jj in range(1, 35):\n",
    "        if (data[j - jj] > yhp):\n",
    "            j = j - jj\n",
    "            \n",
    "    xhp1 = wleng[j]\n",
    "    \n",
    "    return [abs(xhp1 - xhp), xhp1, xhp, j, i]"
   ]
  },
  {
   "cell_type": "code",
   "execution_count": 25,
   "metadata": {},
   "outputs": [
    {
     "data": {
      "text/plain": [
       "[13.202920000000006, 391.60519, 404.80811, 481, 522]"
      ]
     },
     "execution_count": 25,
     "metadata": {},
     "output_type": "execute_result"
    }
   ],
   "source": [
    "FindHalfWidth2(data)"
   ]
  },
  {
   "cell_type": "code",
   "execution_count": 9,
   "metadata": {},
   "outputs": [],
   "source": [
    "x1 = FindPeak1(data)\n",
    "xth = x1[0]\n",
    "x2 = FindPeak2(data)\n",
    "xth2 = x2[0]\n",
    "x3 = FindHalfWidth1(data)\n",
    "xhp = x3[1]\n",
    "xhp1 = x3[2]\n",
    "x4 = FindHalfWidth2(data)\n",
    "xhp2 = x4[1]\n",
    "xhp3 = x4[2]"
   ]
  },
  {
   "cell_type": "code",
   "execution_count": 10,
   "metadata": {},
   "outputs": [
    {
     "data": {
      "image/png": "[encoded data removed]",
      "text/plain": [
       "<Figure size 432x288 with 1 Axes>"
      ]
     },
     "metadata": {
      "needs_background": "light"
     },
     "output_type": "display_data"
    }
   ],
   "source": [
    "plt.plot(wleng, data, linewidth=0.5)\n",
    "plt.xlabel('Wavelength [$cm^{-1}$]')\n",
    "plt.ylabel('Intensity [Arb. units]')\n",
    "plt.axvline(x=xth, color='r', linewidth=0.5, linestyle='-')\n",
    "plt.axvline(x=xth2, color='r', linewidth=0.5, linestyle='-')\n",
    "plt.axvline(x=xhp, linewidth=0.5, linestyle='-')\n",
    "plt.axvline(x=xhp1, linewidth=0.5, linestyle='-')\n",
    "plt.axvline(x=xhp3, linewidth=0.5, linestyle='-')\n",
    "plt.axvline(x=xhp2, linewidth=0.5, linestyle='-')\n",
    "plt.show()#plot the results"
   ]
  },
  {
   "cell_type": "code",
   "execution_count": 11,
   "metadata": {},
   "outputs": [],
   "source": [
    "def Yeild1(data, wleng):\n",
    "    intg = 0\n",
    "    intgg = 0\n",
    "    x3 = FindHalfWidth1(data)\n",
    "    xhp = x3[1]\n",
    "    xhp1 = x3[2]\n",
    "    i = FindHalfWidth1(data)[4]\n",
    "    j = FindHalfWidth1(data)[3]#interval of the integration\n",
    "    for k in range (j+1, i):\n",
    "        df = wleng[k] - wleng[k - 1]#integrate discretely the function between the FHW boundaries and the minimum and the curve\n",
    "        intg += df * data[k]#right rectangular integration which may add some extra area\n",
    "    for kk in range (j, i-1):# left rectangular integration which may remove some of the actual area\n",
    "        dff = wleng[kk + 1] - wleng[kk]\n",
    "        intgg += dff * data[kk]\n",
    "    a1 = intg - min(data) * abs(xhp1 - xhp)\n",
    "    a2 = intgg - min(data) * abs(xhp1 - xhp)\n",
    "    return (a1 + a2)/2 #integrate in two ways and then find the average of the yield of both integrations"
   ]
  },
  {
   "cell_type": "code",
   "execution_count": 20,
   "metadata": {},
   "outputs": [
    {
     "data": {
      "text/plain": [
       "9190.121334999982"
      ]
     },
     "execution_count": 20,
     "metadata": {},
     "output_type": "execute_result"
    }
   ],
   "source": [
    "Yeild1(data, wleng)"
   ]
  },
  {
   "cell_type": "code",
   "execution_count": 12,
   "metadata": {},
   "outputs": [],
   "source": [
    "def Yeild2(data, wleng):#same as to find the first yield\n",
    "    intg = 0\n",
    "    intgg = 0\n",
    "    x4 = FindHalfWidth2(data)\n",
    "    xhp2 = x4[1]\n",
    "    xhp3 = x4[2]\n",
    "    i = FindHalfWidth2(data)[4]\n",
    "    j = FindHalfWidth2(data)[3]\n",
    "    for k in range (j+1, i):\n",
    "        df = wleng[k] - wleng[k - 1]\n",
    "        intg += df * data[k]\n",
    "    for kk in range (j, i-1):\n",
    "        dff = wleng[kk + 1] - wleng[kk]\n",
    "        intgg += dff * data[kk]\n",
    "    a1 = intg - min(data) * abs(xhp3 - xhp2)\n",
    "    a2 = intgg - min(data) * abs(xhp3 - xhp2)\n",
    "    return (a1 + a2)/2"
   ]
  },
  {
   "cell_type": "code",
   "execution_count": 19,
   "metadata": {},
   "outputs": [
    {
     "data": {
      "text/plain": [
       "2991.170065"
      ]
     },
     "execution_count": 19,
     "metadata": {},
     "output_type": "execute_result"
    }
   ],
   "source": [
    "Yeild2(data, wleng)"
   ]
  },
  {
   "cell_type": "code",
   "execution_count": 13,
   "metadata": {},
   "outputs": [],
   "source": [
    "X = pd.read_csv(r'D:\\data-file\\SP2-15-SI-33468D-mapping.txt', sep=\"\\t\", header=None)#reread the table into a matrix\n",
    "wleng = []\n",
    "data = []\n",
    "Z1 = []\n",
    "Z2 = []\n",
    "#peak1 = []\n",
    "#peak2 = []\n",
    "#yeild1 = []\n",
    "#yeild2 = []\n",
    "#ratio = []\n",
    "for i in range (2, 1022):#950\n",
    "    #fill the wavelength data\n",
    "    wleng.append(X[i][0])\n",
    "#print(X.shape)\n",
    "\n",
    "for r in range(1, 1681):    \n",
    "    for j in range (2, 1022):\n",
    "        data.append(X[j][r])#fill the intensity data at each point of same x coordinate then change it\n",
    "    \n",
    "    \n",
    "    #print(r)\n",
    "    #Z1.append(FindPeak1(data)[0])\n",
    "    #Z1.append(FindPeak2(data)[0]) \n",
    "    #Z1.append(Yeild1(data, wleng))\n",
    "    #if (r != 685):\n",
    "     #   Z1.append(Yeild2(data, wleng))\n",
    "    #else:\n",
    "     #   Z1.append(2991.170065)\n",
    "        \n",
    "        #choose any function to plot\n",
    "        \n",
    "    if (r != 685):#Althoagh the function of finding the strong background and erasing it worked on descrete points\n",
    "        #when it was run in the loop something happen which didn't stope this loop at 685\n",
    "        #simply the value of this row finded outside the loop was appended to the array \n",
    "        Z1.append(Yeild1(data, wleng) / Yeild2(data, wleng))\n",
    "    else:\n",
    "        Z1.append(Yeild1(data, wleng) / 2991.170065)\n",
    "        \n",
    "        \n",
    "        \n",
    "    #Z1.append(Yeild1(data, wleng) / Yeild2(data, wleng))\n",
    "    #print(r)\n",
    "    data.clear()#clear the data to reset the process\n",
    "#print(Z1)\n",
    "    #n = data.index(max(data))"
   ]
  },
  {
   "cell_type": "code",
   "execution_count": 14,
   "metadata": {},
   "outputs": [],
   "source": [
    "def ArrToMat(Arr):\n",
    "    Mat = np.zeros((40,40))\n",
    "    r = 0\n",
    "    for i in range(0, 40):\n",
    "        for j in range(0, 40):\n",
    "            Mat[i][j] = Arr[r]\n",
    "            r += 1\n",
    "     \n",
    "    return Mat#convert the array we got into a matrix as the coordinates are distributed on the first two columns"
   ]
  },
  {
   "cell_type": "code",
   "execution_count": 15,
   "metadata": {},
   "outputs": [],
   "source": [
    "Mat = ArrToMat(Z1)"
   ]
  },
  {
   "cell_type": "code",
   "execution_count": 16,
   "metadata": {},
   "outputs": [
    {
     "data": {
      "image/png": "[encoded data removed]",
      "text/plain": [
       "<Figure size 576x432 with 2 Axes>"
      ]
     },
     "metadata": {
      "needs_background": "light"
     },
     "output_type": "display_data"
    }
   ],
   "source": [
    "fig = plt.figure(figsize=(8,6))\n",
    "plt.imshow(Mat,cmap=\"inferno\")\n",
    "#plt.title(\"Plot 2D array\")\n",
    "#plt.clim(1, 6)\n",
    "plt.colorbar()\n",
    "plt.draw()#plot the matrix of the ratio of yields on each cell and represent the value of each cell by a color "
   ]
  },
  {
   "cell_type": "code",
   "execution_count": null,
   "metadata": {},
   "outputs": [],
   "source": []
  }
 ],
 "metadata": {
  "kernelspec": {
   "display_name": "Python 3",
   "language": "python",
   "name": "python3"
  },
  "language_info": {
   "codemirror_mode": {
    "name": "ipython",
    "version": 3
   },
   "file_extension": ".py",
   "mimetype": "text/x-python",
   "name": "python",
   "nbconvert_exporter": "python",
   "pygments_lexer": "ipython3",
   "version": "3.7.4"
  }
 },
 "nbformat": 4,
 "nbformat_minor": 2
}
